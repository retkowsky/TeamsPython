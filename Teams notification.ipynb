{
 "cells": [
  {
   "cell_type": "markdown",
   "id": "f6f4e0b5",
   "metadata": {},
   "source": [
    "# Teams Notification using Python"
   ]
  },
  {
   "cell_type": "markdown",
   "id": "8b634bb1",
   "metadata": {},
   "source": [
    "## 1. Add an incoming webhook to a Teams channel:\n",
    "\n",
    "- Navigate to the channel where you want to add the **webhook** and select (•••) More Options from the top navigation bar.\n",
    "- Choose **Connectors** from the drop-down menu and search for **Incoming Webhook**.\n",
    "- Select the **Configure button**, provide a name, and optionally, upload an image avatar for your webhook.\n",
    "- The dialog window will present a **unique URL** that will map to the channel. Make sure that you copy and save the URL — you will need to provide it to the outside service.\n",
    "- Select the Done button. The webhook will be available in the team channel."
   ]
  },
  {
   "cell_type": "code",
   "execution_count": 1,
   "id": "2dc050c9",
   "metadata": {},
   "outputs": [],
   "source": [
    "# Webhook URL value\n",
    "teams = \"TOBEREPLACED\""
   ]
  },
  {
   "cell_type": "markdown",
   "id": "e52960e3",
   "metadata": {},
   "source": [
    "## 2. Install pymsteams"
   ]
  },
  {
   "cell_type": "markdown",
   "id": "cf183141",
   "metadata": {},
   "source": [
    "https://pypi.org/project/pymsteams/"
   ]
  },
  {
   "cell_type": "code",
   "execution_count": 2,
   "id": "815a622f",
   "metadata": {},
   "outputs": [],
   "source": [
    "#!pip install pymsteams"
   ]
  },
  {
   "cell_type": "code",
   "execution_count": 3,
   "id": "53d13df6",
   "metadata": {},
   "outputs": [],
   "source": [
    "import pymsteams\n",
    "import datetime"
   ]
  },
  {
   "cell_type": "markdown",
   "id": "43daa2ba",
   "metadata": {},
   "source": [
    "## 3. Python code"
   ]
  },
  {
   "cell_type": "code",
   "execution_count": 4,
   "id": "1042b6c9",
   "metadata": {},
   "outputs": [],
   "source": [
    "today = str(datetime.datetime.today().strftime ('%d-%b-%Y %H-%M-%S'))\n",
    "MSG = '(' + today + ') Hello. This is a Teams notification'"
   ]
  },
  {
   "cell_type": "code",
   "execution_count": 5,
   "id": "de6f6b4b",
   "metadata": {},
   "outputs": [
    {
     "name": "stdout",
     "output_type": "stream",
     "text": [
      "(14-Feb-2022 08-32-02) Hello. This is a Teams notification\n"
     ]
    }
   ],
   "source": [
    "print(MSG)"
   ]
  },
  {
   "cell_type": "markdown",
   "id": "daaabcee",
   "metadata": {},
   "source": [
    "## 4. Testing"
   ]
  },
  {
   "cell_type": "code",
   "execution_count": 6,
   "id": "d757a586",
   "metadata": {},
   "outputs": [
    {
     "name": "stdout",
     "output_type": "stream",
     "text": [
      "Message to send to Teams:\n",
      " (14-Feb-2022 08-32-02) Hello. This is a Teams notification\n",
      "\n",
      "Sending message to Teams...\n",
      "Done!\n"
     ]
    }
   ],
   "source": [
    "print('Message to send to Teams:\\n', MSG)\n",
    "\n",
    "myTeamsMessage = pymsteams.connectorcard(teams)\n",
    "myTeamsMessage.text(MSG)\n",
    "myTeamsMessage.color(\"#00ff00\") # Green Color\n",
    "\n",
    "#myTeamsMessage.printme() #Details\n",
    "\n",
    "print(\"\\nSending message to Teams...\")\n",
    "myTeamsMessage.send()\n",
    "print('Done!')"
   ]
  },
  {
   "cell_type": "markdown",
   "id": "cd1dab93",
   "metadata": {},
   "source": [
    "<img src=\"capture.jpg\">"
   ]
  },
  {
   "cell_type": "code",
   "execution_count": null,
   "id": "5fef88ac",
   "metadata": {},
   "outputs": [],
   "source": []
  }
 ],
 "metadata": {
  "kernelspec": {
   "display_name": "Python 3",
   "language": "python",
   "name": "python3"
  },
  "language_info": {
   "codemirror_mode": {
    "name": "ipython",
    "version": 3
   },
   "file_extension": ".py",
   "mimetype": "text/x-python",
   "name": "python",
   "nbconvert_exporter": "python",
   "pygments_lexer": "ipython3",
   "version": "3.6.9"
  }
 },
 "nbformat": 4,
 "nbformat_minor": 5
}
